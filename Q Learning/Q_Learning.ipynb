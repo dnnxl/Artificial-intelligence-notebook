{
  "nbformat": 4,
  "nbformat_minor": 0,
  "metadata": {
    "colab": {
      "name": "Q-Learning.ipynb",
      "provenance": [],
      "collapsed_sections": [],
      "include_colab_link": true
    },
    "kernelspec": {
      "name": "python3",
      "display_name": "Python 3"
    }
  },
  "cells": [
    {
      "cell_type": "markdown",
      "metadata": {
        "id": "view-in-github",
        "colab_type": "text"
      },
      "source": [
        "<a href=\"https://colab.research.google.com/github/dnnxl/Artificial-intelligence-notebook/blob/master/Q%20Learning/Q_Learning.ipynb\" target=\"_parent\"><img src=\"https://colab.research.google.com/assets/colab-badge.svg\" alt=\"Open In Colab\"/></a>"
      ]
    },
    {
      "cell_type": "markdown",
      "metadata": {
        "id": "OcTryjgIg4uq",
        "colab_type": "text"
      },
      "source": [
        "#**Q-Learning**"
      ]
    },
    {
      "cell_type": "markdown",
      "metadata": {
        "id": "ookvIc1QhF_s",
        "colab_type": "text"
      },
      "source": [
        "### Topics\n",
        "- What is Reinforcement Learning\n",
        "- The Bellman Equation\n",
        "- The \"Plan\"\n",
        "- Markov Decision Process (MDP)\n",
        "- Policy vs Plan\n",
        "- Adding a \"Living Penalty\"\n",
        "- Q-Learning intuition\n",
        "- Temporal Difference\n",
        "- Q-Learning Visualization"
      ]
    },
    {
      "cell_type": "markdown",
      "metadata": {
        "id": "A-eXNF08h1BI",
        "colab_type": "text"
      },
      "source": [
        "## What is Reinforcement Learning?"
      ]
    },
    {
      "cell_type": "markdown",
      "metadata": {
        "id": "v2Ompvvoh1Ms",
        "colab_type": "text"
      },
      "source": [
        "- We've got a little maze and this maze is our representation of an **environment** and that's what we're going to be dealing with in this course.\n",
        "\n",
        "- We're going to be dealing with certain environments in which our artificial intelligence is going to be performing it's going to be taking actions it's going to be looking to beat these in my going she'll be looking to win in these environments.\n",
        "\n",
        "- **Agent**, that's the person or that's the mind that's going to be navigating these environments and learning from the feedback that their minds are going to be giving it in order to perform certain actions.\n",
        "\n",
        "- The agent take some actions and update the state and get a reward."
      ]
    }
  ]
}