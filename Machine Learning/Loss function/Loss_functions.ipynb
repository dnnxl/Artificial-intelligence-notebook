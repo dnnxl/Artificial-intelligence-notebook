{
  "nbformat": 4,
  "nbformat_minor": 0,
  "metadata": {
    "colab": {
      "name": "Loss_functions.ipynb",
      "provenance": [],
      "authorship_tag": "ABX9TyMvgfvZ9d2BteD24CoUGDjd",
      "include_colab_link": true
    },
    "kernelspec": {
      "name": "python3",
      "display_name": "Python 3"
    }
  },
  "cells": [
    {
      "cell_type": "markdown",
      "metadata": {
        "id": "view-in-github",
        "colab_type": "text"
      },
      "source": [
        "<a href=\"https://colab.research.google.com/github/dnnxl/Artificial-intelligence-notebook/blob/loss-function/Machine%20Learning/Loss%20function/Loss_functions.ipynb\" target=\"_parent\"><img src=\"https://colab.research.google.com/assets/colab-badge.svg\" alt=\"Open In Colab\"/></a>"
      ]
    },
    {
      "cell_type": "markdown",
      "metadata": {
        "id": "_R1FLTIFDCyZ",
        "colab_type": "text"
      },
      "source": [
        ""
      ]
    },
    {
      "cell_type": "code",
      "metadata": {
        "id": "2WxUK2KADBpx",
        "colab_type": "code",
        "colab": {}
      },
      "source": [
        "# Libraries needed\n"
      ],
      "execution_count": null,
      "outputs": []
    },
    {
      "cell_type": "markdown",
      "metadata": {
        "id": "Pf6re-t7ClZg",
        "colab_type": "text"
      },
      "source": [
        "#Hinge loss\n"
      ]
    },
    {
      "cell_type": "markdown",
      "metadata": {
        "id": "7tBtUOMzCoJc",
        "colab_type": "text"
      },
      "source": [
        "In machine learning, the hinge loss is a loss function used for training classifiers. The hinge loss is used for \"maximum-margin\" classification, most notably for support vector machines (SVMs)."
      ]
    },
    {
      "cell_type": "code",
      "metadata": {
        "id": "yr_hZBpbCIzQ",
        "colab_type": "code",
        "colab": {
          "base_uri": "https://localhost:8080/",
          "height": 281
        },
        "outputId": "b4cfa32b-aacc-41da-b094-e22b03c5b32c"
      },
      "source": [
        "import numpy as np\n",
        "import matplotlib.pyplot as plt\n",
        "\n",
        "def hinge_loss(w,x,y):\n",
        "    \"\"\" evaluates hinge loss and its gradient at w\n",
        "\n",
        "    rows of x are data points\n",
        "    y is a vector of labels\n",
        "    \"\"\"\n",
        "    loss,grad = 0,0\n",
        "    for (x_,y_) in zip(x,y):\n",
        "        v = y_*np.dot(w,x_)\n",
        "        loss += max(0,1-v)\n",
        "        grad += 0 if v > 1 else -y_*x_\n",
        "    return (loss,grad)\n",
        "\n",
        "def grad_descent(x,y,w,step,thresh=0.001):\n",
        "    grad = np.inf\n",
        "    ws = np.zeros((2,0))\n",
        "    ws = np.hstack((ws,w.reshape(2,1)))\n",
        "    step_num = 1\n",
        "    delta = np.inf\n",
        "    loss0 = np.inf\n",
        "    while np.abs(delta)>thresh:\n",
        "        loss,grad = hinge_loss(w,x,y)\n",
        "        delta = loss0-loss\n",
        "        loss0 = loss\n",
        "        grad_dir = grad/np.linalg.norm(grad)\n",
        "        w = w-step*grad_dir/step_num\n",
        "        ws = np.hstack((ws,w.reshape((2,1))))\n",
        "        step_num += 1\n",
        "    return np.sum(ws,1)/np.size(ws,1)\n",
        "\n",
        "def test1():\n",
        "    # sample data points\n",
        "    x1 = np.array((0,1,3,4,1))\n",
        "    x2 = np.array((1,2,0,1,1))\n",
        "    x  = np.vstack((x1,x2)).T\n",
        "    # sample labels\n",
        "    y = np.array((1,1,-1,-1,-1))\n",
        "    w = grad_descent(x,y,np.array((0,0)),0.1)\n",
        "    loss, grad = hinge_loss(w,x,y)\n",
        "    plot_test(x,y,w)\n",
        "\n",
        "def plot_test(x,y,w):\n",
        "    plt.figure()\n",
        "    x1, x2 = x[:,0], x[:,1]\n",
        "    x1_min, x1_max = np.min(x1)*.7, np.max(x1)*1.3\n",
        "    x2_min, x2_max = np.min(x2)*.7, np.max(x2)*1.3\n",
        "    gridpoints = 2000\n",
        "    x1s = np.linspace(x1_min, x1_max, gridpoints)\n",
        "    x2s = np.linspace(x2_min, x2_max, gridpoints)\n",
        "    gridx1, gridx2 = np.meshgrid(x1s,x2s)\n",
        "    grid_pts = np.c_[gridx1.ravel(), gridx2.ravel()]\n",
        "    predictions = np.array([np.sign(np.dot(w,x_)) for x_ in grid_pts]).reshape((gridpoints,gridpoints))\n",
        "    plt.contourf(gridx1, gridx2, predictions, cmap=plt.cm.Paired)\n",
        "    plt.scatter(x[:, 0], x[:, 1], c=y, cmap=plt.cm.Paired)\n",
        "    plt.title('total hinge loss: %g' % hinge_loss(w,x,y)[0])\n",
        "    plt.show()\n",
        "\n",
        "if __name__ == '__main__':\n",
        "    np.set_printoptions(precision=3)\n",
        "    test1()"
      ],
      "execution_count": 1,
      "outputs": [
        {
          "output_type": "display_data",
          "data": {
            "image/png": "[encoded data removed]",
            "text/plain": [
              "<Figure size 432x288 with 1 Axes>"
            ]
          },
          "metadata": {
            "tags": [],
            "needs_background": "light"
          }
        }
      ]
    },
    {
      "cell_type": "code",
      "metadata": {
        "id": "k19-i3iQDdHp",
        "colab_type": "code",
        "colab": {}
      },
      "source": [
        ""
      ],
      "execution_count": null,
      "outputs": []
    }
  ]
}