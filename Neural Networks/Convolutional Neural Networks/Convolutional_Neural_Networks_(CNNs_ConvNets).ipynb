{
  "nbformat": 4,
  "nbformat_minor": 0,
  "metadata": {
    "colab": {
      "name": "Convolutional Neural Networks (CNNs / ConvNets).ipynb",
      "provenance": [],
      "authorship_tag": "ABX9TyPKl/2Bo1il+wJ0z/6iHLZh",
      "include_colab_link": true
    },
    "kernelspec": {
      "name": "python3",
      "display_name": "Python 3"
    }
  },
  "cells": [
    {
      "cell_type": "markdown",
      "metadata": {
        "id": "view-in-github",
        "colab_type": "text"
      },
      "source": [
        "<a href=\"https://colab.research.google.com/github/dnnxl/Artificial-intelligence-notebook/blob/neural-network/Neural%20Networks/Convolutional%20Neural%20Networks/Convolutional_Neural_Networks_(CNNs_ConvNets).ipynb\" target=\"_parent\"><img src=\"https://colab.research.google.com/assets/colab-badge.svg\" alt=\"Open In Colab\"/></a>"
      ]
    },
    {
      "cell_type": "markdown",
      "metadata": {
        "id": "ROA7X0DRjtY6",
        "colab_type": "text"
      },
      "source": [
        "#Convolutional Neural Networks (CNNs / ConvNets)\n"
      ]
    },
    {
      "cell_type": "code",
      "metadata": {
        "id": "P5Isqotajg7u",
        "colab_type": "code",
        "colab": {}
      },
      "source": [
        ""
      ],
      "execution_count": null,
      "outputs": []
    }
  ]
}